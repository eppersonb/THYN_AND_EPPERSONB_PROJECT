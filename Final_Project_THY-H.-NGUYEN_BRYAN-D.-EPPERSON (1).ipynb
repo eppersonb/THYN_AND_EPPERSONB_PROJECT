{
 "cells": [
  {
   "cell_type": "code",
   "execution_count": 24,
   "metadata": {},
   "outputs": [
    {
     "data": {
      "text/plain": [
       "'\\n10,000 images of each shape is made\\nresulting in 80,000 images to use as\\ntraining data and around 10,000 to be\\nused for testing. These images are clean\\nand have no noise added to them so the\\nAI can easily be able to identify the image\\n\\n'"
      ]
     },
     "execution_count": 24,
     "metadata": {},
     "output_type": "execute_result"
    }
   ],
   "source": [
    "#This is the code to get the image\n",
    "\n",
    "\"\"\"\n",
    "10,000 images of each shape is made\n",
    "resulting in 80,000 images to use as\n",
    "training data and around 10,000 to be\n",
    "used for testing. These images are clean\n",
    "and have no noise added to them so the\n",
    "AI can easily be able to identify the image\n",
    "\n",
    "\"\"\"\n",
    "\n",
    "# import math \n",
    "# from PIL import Image, ImageDraw, ImageColor, ImagePath\n",
    "\n",
    "# import random\n",
    " \n",
    "    \n",
    "# def draw_a_shape(number):\n",
    "    \n",
    "#     img = Image.new(\"RGB\", (128,128), \"white\")  \n",
    "    \n",
    "#     image = ImageDraw.Draw(img)\n",
    "\n",
    "#     a = random.randint(0,129)\n",
    "\n",
    "#     #The center is at (64,64)\n",
    "\n",
    "#     side = 10\n",
    "    \n",
    "#     angle = ((2*math.pi)/side)\n",
    "\n",
    "#     length = abs(64-a)\n",
    "\n",
    "#     if a > 64:\n",
    "    \n",
    "#         point_1 = (a,64)\n",
    "    \n",
    "#     else:\n",
    "        \n",
    "#         point_1 = (64+length, 64)\n",
    "    \n",
    "#     xy = [point_1]\n",
    "\n",
    "#     for i in range (side-1):\n",
    "    \n",
    "#         x_coor = (length*math.cos((i+1)*angle)) +64\n",
    "    \n",
    "#         y_coor = (length*math.sin((i+1)*angle)) +64\n",
    "        \n",
    "#         x_coor = round(x_coor,5)\n",
    "        \n",
    "#         y_coor = round(y_coor,5)\n",
    "        \n",
    "#         point_2 = (x_coor, y_coor)\n",
    "        \n",
    "#         xy.append(point_2)\n",
    "    \n",
    "#         e = 64 - length\n",
    "\n",
    "#         f = 64 + length\n",
    "\n",
    "#     if a > 64:\n",
    "   \n",
    "#         distance_x = abs(a-e)\n",
    "    \n",
    "#         distance_y = abs(e-f)\n",
    "    \n",
    "#     else:\n",
    "    \n",
    "#         distance_x = abs(a-f)\n",
    "    \n",
    "#         distance_y = abs(e-f)\n",
    "       \n",
    "#     image.polygon(xy, fill =None, outline =\"black\")  \n",
    " \n",
    "#     img.save(\"a.png\")\n",
    "\n",
    "#     imm = Image.open(\"a.png\")\n",
    "\n",
    "#     if a > 64:\n",
    "    \n",
    "#         im_1 = imm.crop((e,e,a,f)) \n",
    "\n",
    "#     else:\n",
    "        \n",
    "#         im_1 = imm.crop((a,e,f,f))\n",
    "\n",
    "#     im_1.save(\"a.png\")\n",
    "\n",
    "#     imgg = Image.open(\"a.png\")\n",
    "    \n",
    "#     angle = random.randint(0,361)\n",
    "    \n",
    "#     out = im_1.rotate(angle, fillcolor = \"white\")\n",
    "\n",
    "#     out.save(\"a.png\")\n",
    "\n",
    "#     img_2 = Image.new(\"RGB\", (128,128), \"white\")  \n",
    "\n",
    "#     image_2 = ImageDraw.Draw(img_2)\n",
    "\n",
    "#     coo = random.randint(0,128-distance_x)\n",
    "\n",
    "#     doo = random.randint(0,128-distance_y)\n",
    "\n",
    "#     back_im = img_2.copy()\n",
    "\n",
    "#     back_im.paste(out, (coo,doo))\n",
    "\n",
    "\n",
    "#     back_im.save(\"10_sides_\"+str(number)+\".png\")\n",
    "\n",
    "# #     pix_val = list(back_im.getdata())\n",
    "\n",
    "# #     print(pix_val)\n",
    "\n",
    "# def main():\n",
    "#     i = 0\n",
    "#     while i < 10001:\n",
    "#         try:\n",
    "#             draw_a_shape(i)\n",
    "#             i +=1\n",
    "#         except (SystemError, ValueError):\n",
    "#             i = i\n",
    "            \n",
    "# main()"
   ]
  },
  {
   "cell_type": "code",
   "execution_count": 25,
   "metadata": {},
   "outputs": [],
   "source": [
    "#This is the code to add Gausian noise \n",
    "# import numpy as np\n",
    "# import cv2\n",
    "# import random\n",
    "# import os \n",
    "\n",
    "# def blurred(number):\n",
    "    \n",
    "#     image_path = r\"C:\\Users\\nguyent2\\Desktop\\Training\\10_sides_\"+str(number) + r\".png\"\n",
    "\n",
    "#     directory = r'C:\\Users\\nguyent2\\Desktop\\Testing'\n",
    "\n",
    "#     img = cv2.imread(image_path)\n",
    "\n",
    "#     os.chdir(directory) \n",
    "\n",
    "#     filename = 'testing_10_sides_'+str(number)+'.png'\n",
    "\n",
    "#     mean = 0\n",
    "    \n",
    "#     var = random.uniform(10,12)\n",
    "    \n",
    "#     sigma = var ** random.uniform(1,1.5)\n",
    "    \n",
    "#     gaussian = np.random.normal(mean, sigma, (128, 128)) #  np.zeros((224, 224), np.float32)\n",
    "\n",
    "#     noisy_image = np.zeros(img.shape, np.float32)\n",
    "\n",
    "\n",
    "#     if len(img.shape) == 2:\n",
    "    \n",
    "#         noisy_image = img + gaussian\n",
    "\n",
    "#     else:\n",
    "    \n",
    "#         noisy_image[:, :, 0] = img[:, :, 0] + gaussian\n",
    "    \n",
    "#         noisy_image[:, :, 1] = img[:, :, 1] + gaussian\n",
    "    \n",
    "#         noisy_image[:, :, 2] = img[:, :, 2] + gaussian\n",
    "\n",
    "#     cv2.normalize(noisy_image, noisy_image, 0, 255, cv2.NORM_MINMAX, dtype=-1)\n",
    "\n",
    "#     noisy_image = noisy_image.astype(np.uint8)\n",
    "\n",
    "#     cv2.imwrite(filename, noisy_image) \n",
    "\n",
    "# def main():\n",
    "#     i = 0\n",
    "#     while i < 100000:\n",
    "#         try:\n",
    "#             blurred(i)\n",
    "#             i += 1\n",
    "#         except AttributeError:\n",
    "#             i = i\n",
    "\n",
    "# main()"
   ]
  },
  {
   "cell_type": "code",
   "execution_count": 26,
   "metadata": {},
   "outputs": [],
   "source": [
    "#import the libraries needed \n",
    "\n",
    "import tensorflow as tf\n",
    "from tensorflow.keras import Sequential\n",
    "from tensorflow.keras.layers import Conv2D,MaxPool2D,Dropout,Flatten,Dense,BatchNormalization\n",
    "from tensorflow.keras.preprocessing.image import ImageDataGenerator, load_img\n",
    "from tensorflow.keras.callbacks import EarlyStopping\n",
    "\n",
    "import numpy as np\n",
    "import pandas as pd \n",
    "from keras.utils import to_categorical\n",
    "from sklearn.model_selection import train_test_split\n",
    "import matplotlib.pyplot as plt\n",
    "import random\n",
    "import os\n",
    "\n",
    "import numpy as np\n",
    "import pandas as pd \n",
    "import matplotlib.pyplot as plt\n",
    "import random\n",
    "import os\n"
   ]
  },
  {
   "cell_type": "code",
   "execution_count": 27,
   "metadata": {},
   "outputs": [],
   "source": [
    "#Open the files in the Training Set\n",
    "filenames = os.listdir(r\"C:\\Users\\eppersonb\\Downloads\\CNN_Final_Project-master\\Training_2\\\\\")\n",
    "\n",
    "#Classify the images into the correct categories.\n",
    "\n",
    "#Initiate an empty list of the categories\n",
    "categories = []\n",
    "\n",
    "\"\"\"\n",
    "Since the images are named with\n",
    "the title based on the number of sides)\n",
    "The reason I did this:\n",
    "Classify the images\n",
    "into the correct categories.\n",
    "(Because the training set is a single\n",
    "folder called “Training”, and it\n",
    "has the total number of\n",
    "different shapes.\n",
    "So I created a .csv file\n",
    "to map the title of the image name\n",
    "into the correct category.    \n",
    "\"\"\"\n",
    "\n",
    "\n",
    "#Loop through all of the files in the Training Set\n",
    "for filename in filenames:\n",
    "    \n",
    "    #Get category equals to the first character in the filename\n",
    "    category = filename[0]\n",
    "    \n",
    "\n",
    "    #Set the images into the correct labels\n",
    "    if category == \"3\":\n",
    "        categories.append(\"triangle\")\n",
    "    elif category == \"4\":\n",
    "        categories.append(\"square\")\n",
    "    elif category == \"5\":\n",
    "        categories.append(\"pentagon\")\n",
    "    elif category == \"6\":\n",
    "        categories.append(\"hexagon\")\n",
    "    elif category == \"7\":\n",
    "        categories.append(\"heptagon\")\n",
    "    elif category == \"8\":\n",
    "        categories.append(\"octagon\")\n",
    "    elif category == \"9\":\n",
    "        categories.append(\"nonagon\")\n",
    "    else:\n",
    "        categories.append(\"decagon\")\n",
    "\n",
    "#Creating the .csv file with the filename and category\n",
    "df = pd.DataFrame({\n",
    "    'filename': filenames,\n",
    "    'category': categories\n",
    "})\n",
    "\n",
    "#This line is used to shuffle the dataframe\n",
    "df = df.sample(frac=1)"
   ]
  },
  {
   "cell_type": "code",
   "execution_count": 28,
   "metadata": {
    "scrolled": true
   },
   "outputs": [],
   "source": [
    "# #Export the .csv file to check the images with the labels\n",
    "# df.to_csv(r\"C:\\Users\\nguyent2\\Desktop\\New.csv\")\n",
    "\n",
    "# #Check the head()\n",
    "# df.head()"
   ]
  },
  {
   "cell_type": "code",
   "execution_count": 29,
   "metadata": {},
   "outputs": [],
   "source": [
    "# #Check the tail()\n",
    "# df.tail()"
   ]
  },
  {
   "cell_type": "code",
   "execution_count": 30,
   "metadata": {
    "scrolled": true
   },
   "outputs": [
    {
     "data": {
      "text/plain": [
       "<AxesSubplot:>"
      ]
     },
     "execution_count": 30,
     "metadata": {},
     "output_type": "execute_result"
    },
    {
     "data": {
      "image/png": "[encoded data removed]",
      "text/plain": [
       "<Figure size 432x288 with 1 Axes>"
      ]
     },
     "metadata": {
      "needs_background": "light"
     },
     "output_type": "display_data"
    }
   ],
   "source": [
    "#Plot the number of images in each label in the training set\n",
    "\"\"\"\n",
    "This is the .csv file\n",
    "containing all titles of the\n",
    "images (in the first column)\n",
    "with the correct labels (in the\n",
    "second column).\n",
    "\"\"\"\n",
    "df['category'].value_counts().plot.bar()"
   ]
  },
  {
   "cell_type": "code",
   "execution_count": 31,
   "metadata": {},
   "outputs": [],
   "source": [
    "# #Randomly pick 1 image\n",
    "# sample = random.choice(filenames)\n",
    "\n",
    "# #Load the image to check the image\n",
    "# image = load_img(r\"C:\\Users\\nguyent2\\Desktop\\Training\\\\\" + sample)\n",
    "\n",
    "# #Show the image\n",
    "# plt.imshow(image)"
   ]
  },
  {
   "cell_type": "code",
   "execution_count": 32,
   "metadata": {},
   "outputs": [],
   "source": [
    "#In the training set, splitting the images into 2 smaller sets, which are train_df and validate_df \n",
    "#with a ratio of 8:2\n",
    "#This means 80% of the training set is in train_df, 20% of the training set is in validate_df\n",
    "\"\"\"\n",
    "Plot the number\n",
    "of images\n",
    "in each label (category)\n",
    "to double check.\n",
    "There are equal number\n",
    "of images in each category.\n",
    " did this because\n",
    "I thought I would like\n",
    "to see if the training\n",
    "process actually\n",
    "works on that particular\n",
    "training set.\n",
    "I did this because\n",
    "I wanted to test my model\n",
    "on the set of train_df and\n",
    "on the set of validate_df.\n",
    "The training set, if it is not splitted,\n",
    "I was afraid that bias would be created\n",
    "during training.\n",
    "\"\"\"\n",
    "train_df, validate_df = train_test_split(df, test_size=0.20, random_state=42)\n",
    "\n",
    "\n",
    "#Drop the index of the training_df\n",
    "train_df = train_df.reset_index(drop=True)\n",
    "\n",
    "#Drop the index of the validate_df\n",
    "\n",
    "validate_df = validate_df.reset_index(drop=True)\n",
    "\n",
    "\n"
   ]
  },
  {
   "cell_type": "code",
   "execution_count": 33,
   "metadata": {},
   "outputs": [
    {
     "data": {
      "text/plain": [
       "<AxesSubplot:>"
      ]
     },
     "execution_count": 33,
     "metadata": {},
     "output_type": "execute_result"
    },
    {
     "data": {
      "image/png": "[encoded data removed]",
      "text/plain": [
       "<Figure size 432x288 with 1 Axes>"
      ]
     },
     "metadata": {
      "needs_background": "light"
     },
     "output_type": "display_data"
    }
   ],
   "source": [
    "#Plot the number of images in train_df\n",
    "train_df['category'].value_counts().plot.bar()"
   ]
  },
  {
   "cell_type": "code",
   "execution_count": 34,
   "metadata": {},
   "outputs": [
    {
     "data": {
      "text/plain": [
       "<AxesSubplot:>"
      ]
     },
     "execution_count": 34,
     "metadata": {},
     "output_type": "execute_result"
    },
    {
     "data": {
      "image/png": "[encoded data removed]",
      "text/plain": [
       "<Figure size 432x288 with 1 Axes>"
      ]
     },
     "metadata": {
      "needs_background": "light"
     },
     "output_type": "display_data"
    }
   ],
   "source": [
    "#Plot the number of images in the validate_df\n",
    "validate_df['category'].value_counts().plot.bar()"
   ]
  },
  {
   "cell_type": "code",
   "execution_count": 35,
   "metadata": {},
   "outputs": [],
   "source": [
    "#Set batch size, the image_width, and image_height\n",
    "\"\"\"\n",
    "batch_size is the total number of training\n",
    "examples present in a single batch.\n",
    "I can’t pass the entire dataset (in case there\n",
    "are so many images) into the neural net at once.\n",
    "So, I devided the dataset into a number of\n",
    "batches (each batch has the\n",
    "same batch_size, except the last batch has the\n",
    "remaining number of image. When there\n",
    "are fewer images than the batch_size\n",
    "in a batch, that batch is the last batch.\n",
    "epochs is the number of complete passes\n",
    "through the training dataset.\n",
    "batch_size must be more than\n",
    "or equal to one and less than or equal to\n",
    "the number of samples in the training dataset.\n",
    "Small batch_size gives a learning process\n",
    "that converges quickly at the cost of noise\n",
    "in the training process.\n",
    "Large batch_size gives a learning process\n",
    "that converges slowly with accurate estimates\n",
    "of the error gradient.\n",
    "The batch_size is a hyperparameter of\n",
    "gradient descent that controls the number\n",
    "of training samples to work through\n",
    "before the model’s internal parameters\n",
    "are updated.\n",
    "The number of epochs is a hyperparameter\n",
    "of gradient descent that controls the number of complete passes through the training dataset.\n",
    "#Plot the number of images in train_df\n",
    "train_df['category'].value_counts( ).plot.bar( )\n",
    "#Plot the number of images in the validate_df\n",
    "validate_df['category'].value_counts( ).plot.bar( )\n",
    "#Set batch size, the image_width, and image_height\n",
    "total_train = train_df.shape[0] #This is just the first\n",
    "image of the train_df\n",
    "total_validate = validate_df.shape[0] \n",
    "#This is justthe first image of the validates_df\n",
    "In general, batch size of 32 is a good starting point, or batch_size can be equal to 64, 128, and\n",
    "256.\n",
    "Other values (lower or higher) may be fine for some data sets, but the given range is generally\n",
    "the best to start experimenting with. Though, under 32, it might get too slow because of\n",
    "significantly lower computational speed, because of not exploiting vectorization to the full\n",
    "extent. Therefore, I chose batch_size = 32.\n",
    "For the epochs, I just used 50 because I think it is enough.\n",
    "\"\"\"\n",
    "\n",
    "\n",
    "total_train = train_df.shape[0] #This is just the first image of the train_df\n",
    "total_validate = validate_df.shape[0] #This is just the first image of the validates_df\n",
    "\n",
    "batch_size=32\n",
    "epochs=50\n",
    "IMAGE_WIDTH = 128\n",
    "\n",
    "IMAGE_HEIGHT = 128\n",
    "\n",
    "IMAGE_SIZE = (IMAGE_WIDTH, IMAGE_HEIGHT)\n",
    "\n"
   ]
  },
  {
   "cell_type": "code",
   "execution_count": 36,
   "metadata": {},
   "outputs": [
    {
     "name": "stdout",
     "output_type": "stream",
     "text": [
      "Found 64000 validated image filenames belonging to 8 classes.\n"
     ]
    }
   ],
   "source": [
    "#In order to make the most of my few training examples, I will \"augment\" them via a number of random transformations, \n",
    "#so that my model would never see twice the exact same picture. \n",
    "#This helps prevent overfitting and helps the model generalize better.\n",
    "\n",
    "\n",
    "\"\"\"\n",
    "In order to make the most of my few\n",
    "training examples, I will \"augment\" them\n",
    "via a number of random transformations,\n",
    "so that my model would never see\n",
    "twice the exact same picture.\n",
    "This helps prevent overfitting\n",
    "and helps the model generalize better.\n",
    "\n",
    "\"\"\"\n",
    "train_datagen = ImageDataGenerator(\n",
    "    rotation_range=40,\n",
    "    width_shift_range=0.2,\n",
    "        height_shift_range=0.2,\n",
    "        rescale=1./255,\n",
    "        shear_range=0.2,\n",
    "        zoom_range=0.2,\n",
    "        horizontal_flip=True,\n",
    "        fill_mode='nearest')\n",
    "\n",
    "#Set up the train_generator in keras\n",
    "\n",
    "train_generator = train_datagen.flow_from_dataframe(\n",
    "    train_df, r\"C:\\Users\\eppersonb\\Downloads\\CNN_Final_Project-master\\Training_2\", \n",
    "    x_col='filename',\n",
    "    y_col='category',\n",
    "    target_size=IMAGE_SIZE,\n",
    "    class_mode='categorical',\n",
    "    batch_size= batch_size\n",
    ")"
   ]
  },
  {
   "cell_type": "code",
   "execution_count": 37,
   "metadata": {},
   "outputs": [
    {
     "name": "stdout",
     "output_type": "stream",
     "text": [
      "Found 16000 validated image filenames belonging to 8 classes.\n"
     ]
    }
   ],
   "source": [
    "\"\"\"\n",
    "I did the same thing for the images\n",
    "in the validation set.\n",
    "I just rescaled the image.\n",
    "Then set up the validation_generator\n",
    "from keras.\n",
    "\"\"\"\n",
    "#Normalize the images in the validation_datagen\n",
    "validation_datagen = ImageDataGenerator(rescale=1./255)\n",
    "\n",
    "#Set up the validation_generator\n",
    "validation_generator = validation_datagen.flow_from_dataframe(\n",
    "    validate_df, \n",
    "    r\"C:\\Users\\eppersonb\\Downloads\\CNN_Final_Project-master\\Training_2\", \n",
    "    x_col='filename',\n",
    "    y_col='category',\n",
    "    target_size=IMAGE_SIZE,\n",
    "    class_mode='categorical',\n",
    "    batch_size=batch_size\n",
    ")\n",
    "\n"
   ]
  },
  {
   "cell_type": "code",
   "execution_count": 38,
   "metadata": {},
   "outputs": [],
   "source": [
    "# #This is just to show 1 example to check if the images in the two sets above \n",
    "# #(the train_datagen and the validation_datagen) are correctly set up or not.\n",
    "# example_df = train_df.sample(n=1).reset_index(drop=True)\n",
    "# example_generator = train_datagen.flow_from_dataframe(\n",
    "#     example_df,   r\"C:\\Users\\nguyent2\\Desktop\\Training\", \n",
    "#     x_col='filename',\n",
    "#     y_col='category',\n",
    "#     target_size=IMAGE_SIZE,\n",
    "#     class_mode='categorical'\n",
    "# )"
   ]
  },
  {
   "cell_type": "code",
   "execution_count": 39,
   "metadata": {
    "scrolled": true
   },
   "outputs": [],
   "source": [
    "# plt.figure(figsize=(128, 128))\n",
    "# for i in range(0, 15):\n",
    "#     plt.subplot(5, 3, i+1)\n",
    "#     for X_batch, Y_batch in example_generator:\n",
    "#         image = X_batch[0]\n",
    "#         plt.imshow(image)\n",
    "#         break\n",
    "# plt.tight_layout()\n",
    "# plt.show()"
   ]
  },
  {
   "cell_type": "code",
   "execution_count": 40,
   "metadata": {
    "scrolled": true
   },
   "outputs": [
    {
     "name": "stdout",
     "output_type": "stream",
     "text": [
      "Model: \"sequential_1\"\n",
      "_________________________________________________________________\n",
      "Layer (type)                 Output Shape              Param #   \n",
      "=================================================================\n",
      "conv2d_3 (Conv2D)            (None, 128, 128, 8)       224       \n",
      "_________________________________________________________________\n",
      "max_pooling2d_3 (MaxPooling2 (None, 64, 64, 8)         0         \n",
      "_________________________________________________________________\n",
      "conv2d_4 (Conv2D)            (None, 64, 64, 16)        1168      \n",
      "_________________________________________________________________\n",
      "dropout_2 (Dropout)          (None, 64, 64, 16)        0         \n",
      "_________________________________________________________________\n",
      "batch_normalization_2 (Batch (None, 64, 64, 16)        64        \n",
      "_________________________________________________________________\n",
      "max_pooling2d_4 (MaxPooling2 (None, 32, 32, 16)        0         \n",
      "_________________________________________________________________\n",
      "conv2d_5 (Conv2D)            (None, 32, 32, 24)        3480      \n",
      "_________________________________________________________________\n",
      "batch_normalization_3 (Batch (None, 32, 32, 24)        96        \n",
      "_________________________________________________________________\n",
      "max_pooling2d_5 (MaxPooling2 (None, 16, 16, 24)        0         \n",
      "_________________________________________________________________\n",
      "flatten_1 (Flatten)          (None, 6144)              0         \n",
      "_________________________________________________________________\n",
      "dense_2 (Dense)              (None, 512)               3146240   \n",
      "_________________________________________________________________\n",
      "dropout_3 (Dropout)          (None, 512)               0         \n",
      "_________________________________________________________________\n",
      "dense_3 (Dense)              (None, 8)                 4104      \n",
      "=================================================================\n",
      "Total params: 3,155,376\n",
      "Trainable params: 3,155,296\n",
      "Non-trainable params: 80\n",
      "_________________________________________________________________\n"
     ]
    }
   ],
   "source": [
    "#This is the model\n",
    "\n",
    "\n",
    "\n",
    "\"\"\"\n",
    "Applies the rectified linear\n",
    "unit activation function.\n",
    "With default values, this returns\n",
    "the standard ReLU activation: max(x, 0),\n",
    "the element-wise maximum of 0 and\n",
    "the input tensor.\n",
    "Modifying default parameters allows to\n",
    "use non-zero thresholds,\n",
    "change the max value of the activation,\n",
    "and to use a non-zero multiple\n",
    "of the input for values below the threshold.\n",
    "\"\"\"\n",
    "model = Sequential()\n",
    "\n",
    "model.add(Conv2D(8 , (3,3) , strides = 1 , padding = 'same' , activation = 'relu' , input_shape = (128,128,3)))\n",
    "\n",
    "\n",
    "model.add(MaxPool2D((2,2) , strides = 2 , padding = 'same'))\n",
    "\n",
    "model.add(Conv2D(16 , (3,3) , strides = 1 , padding = 'same' , activation = 'relu'))\n",
    "\n",
    "model.add(Dropout(0.2))\n",
    "\n",
    "model.add(BatchNormalization())\n",
    "\n",
    "model.add(MaxPool2D((2,2) , strides = 2 , padding = 'same'))\n",
    "\n",
    "model.add(Conv2D(24 , (3,3) , strides = 1 , padding = 'same' , activation = 'relu'))\n",
    "\n",
    "model.add(BatchNormalization())\n",
    "\n",
    "model.add(MaxPool2D((2,2) , strides = 2 , padding = 'same'))\n",
    "\n",
    "model.add(Flatten())\n",
    "\n",
    "model.add(Dense(units = 512 , activation = 'relu'))\n",
    "\n",
    "model.add(Dropout(0.3))\n",
    "\n",
    "model.add(Dense(units = 8 , activation = 'softmax'))\n",
    "\n",
    "model.compile(optimizer = 'adam' , loss = 'categorical_crossentropy' , metrics = ['accuracy'])\n",
    "\n",
    "model.summary()\n",
    "\n"
   ]
  },
  {
   "cell_type": "code",
   "execution_count": 41,
   "metadata": {},
   "outputs": [],
   "source": [
    "# Set a learning rate annealer\n",
    "\"\"\"\n",
    "Early stopping is a method that allows you\n",
    "to specify an arbitrary large number of training\n",
    "epochs and stop training once the model\n",
    "performance stops improving on a hold out\n",
    "validation dataset.\n",
    "\"\"\"\n",
    "\n",
    "earlystop = EarlyStopping(monitor='val_loss', mode='min', verbose=1, patience=5)"
   ]
  },
  {
   "cell_type": "code",
   "execution_count": 42,
   "metadata": {
    "scrolled": false
   },
   "outputs": [
    {
     "name": "stdout",
     "output_type": "stream",
     "text": [
      "WARNING:tensorflow:sample_weight modes were coerced from\n",
      "  ...\n",
      "    to  \n",
      "  ['...']\n",
      "WARNING:tensorflow:sample_weight modes were coerced from\n",
      "  ...\n",
      "    to  \n",
      "  ['...']\n",
      "Train for 2000 steps, validate for 500 steps\n",
      "Epoch 1/50\n",
      "2000/2000 [==============================] - 813s 407ms/step - loss: 2.1076 - accuracy: 0.1323 - val_loss: 45.7784 - val_accuracy: 0.1257\n",
      "Epoch 2/50\n",
      "2000/2000 [==============================] - 840s 420ms/step - loss: 1.9763 - accuracy: 0.1969 - val_loss: 200.9848 - val_accuracy: 0.1307\n",
      "Epoch 3/50\n",
      "2000/2000 [==============================] - 818s 409ms/step - loss: 1.8417 - accuracy: 0.2705 - val_loss: 254.7710 - val_accuracy: 0.1241\n",
      "Epoch 4/50\n",
      "2000/2000 [==============================] - 817s 409ms/step - loss: 1.6472 - accuracy: 0.3340 - val_loss: 27.1141 - val_accuracy: 0.2195\n",
      "Epoch 5/50\n",
      "2000/2000 [==============================] - 820s 410ms/step - loss: 1.4476 - accuracy: 0.4069 - val_loss: 8.4512 - val_accuracy: 0.2617\n",
      "Epoch 6/50\n",
      "2000/2000 [==============================] - 814s 407ms/step - loss: 1.2809 - accuracy: 0.4708 - val_loss: 21.2802 - val_accuracy: 0.2109\n",
      "Epoch 7/50\n",
      "2000/2000 [==============================] - 806s 403ms/step - loss: 1.1730 - accuracy: 0.5118 - val_loss: 11.6798 - val_accuracy: 0.2861\n",
      "Epoch 8/50\n",
      "2000/2000 [==============================] - 806s 403ms/step - loss: 1.0919 - accuracy: 0.5466 - val_loss: 4.9575 - val_accuracy: 0.3434\n",
      "Epoch 9/50\n",
      "2000/2000 [==============================] - 804s 402ms/step - loss: 1.0191 - accuracy: 0.5808 - val_loss: 27.7483 - val_accuracy: 0.1966\n",
      "Epoch 10/50\n",
      "2000/2000 [==============================] - 817s 409ms/step - loss: 0.9546 - accuracy: 0.6110 - val_loss: 6.6594 - val_accuracy: 0.4476\n",
      "Epoch 11/50\n",
      "2000/2000 [==============================] - 824s 412ms/step - loss: 0.8987 - accuracy: 0.6361 - val_loss: 4.3853 - val_accuracy: 0.4828\n",
      "Epoch 12/50\n",
      "2000/2000 [==============================] - 822s 411ms/step - loss: 0.8530 - accuracy: 0.6545 - val_loss: 4.6568 - val_accuracy: 0.5095\n",
      "Epoch 13/50\n",
      "2000/2000 [==============================] - 829s 414ms/step - loss: 0.8219 - accuracy: 0.6729 - val_loss: 3.9481 - val_accuracy: 0.5149\n",
      "Epoch 14/50\n",
      "2000/2000 [==============================] - 822s 411ms/step - loss: 0.7941 - accuracy: 0.6827 - val_loss: 43.1073 - val_accuracy: 0.2202\n",
      "Epoch 15/50\n",
      "2000/2000 [==============================] - 820s 410ms/step - loss: 0.7709 - accuracy: 0.6914 - val_loss: 22.0868 - val_accuracy: 0.3851\n",
      "Epoch 16/50\n",
      "2000/2000 [==============================] - 817s 409ms/step - loss: 0.7563 - accuracy: 0.6998 - val_loss: 2.2173 - val_accuracy: 0.6122\n",
      "Epoch 17/50\n",
      "2000/2000 [==============================] - 818s 409ms/step - loss: 0.7334 - accuracy: 0.7056 - val_loss: 170.6331 - val_accuracy: 0.1440\n",
      "Epoch 18/50\n",
      "2000/2000 [==============================] - 818s 409ms/step - loss: 0.7160 - accuracy: 0.7128 - val_loss: 4.5759 - val_accuracy: 0.4243\n",
      "Epoch 19/50\n",
      "2000/2000 [==============================] - 818s 409ms/step - loss: 0.7141 - accuracy: 0.7160 - val_loss: 5.9793 - val_accuracy: 0.5168\n",
      "Epoch 20/50\n",
      "2000/2000 [==============================] - 820s 410ms/step - loss: 0.6995 - accuracy: 0.7232 - val_loss: 22.2999 - val_accuracy: 0.3832\n",
      "Epoch 21/50\n",
      "2000/2000 [==============================] - 820s 410ms/step - loss: 0.6851 - accuracy: 0.7273 - val_loss: 3.3497 - val_accuracy: 0.5347\n",
      "Epoch 00021: early stopping\n"
     ]
    }
   ],
   "source": [
    "\n",
    "history = model.fit_generator(\n",
    "    train_generator, \n",
    "    epochs=epochs,\n",
    "    validation_data=validation_generator,\n",
    "    validation_steps=total_validate//batch_size,\n",
    "    steps_per_epoch=total_train//batch_size,\n",
    "    verbose = 1,\n",
    "    callbacks=[earlystop]\n",
    ")"
   ]
  },
  {
   "cell_type": "code",
   "execution_count": 43,
   "metadata": {
    "scrolled": true
   },
   "outputs": [
    {
     "data": {
      "image/png": "[encoded data removed]",
      "text/plain": [
       "<Figure size 432x288 with 1 Axes>"
      ]
     },
     "metadata": {
      "needs_background": "light"
     },
     "output_type": "display_data"
    },
    {
     "data": {
      "image/png": "[encoded data removed]",
      "text/plain": [
       "<Figure size 432x288 with 1 Axes>"
      ]
     },
     "metadata": {
      "needs_background": "light"
     },
     "output_type": "display_data"
    }
   ],
   "source": [
    "\"\"\"\n",
    "Early stopping is a method that allows you\n",
    "to specify an arbitrary large number of training\n",
    "epochs and stop training once the model\n",
    "performance stops improving on a hold out\n",
    "validation dataset.\n",
    "\n",
    "\"\"\"\n",
    "plt.plot(history.history['accuracy'])\n",
    "plt.plot(history.history['val_accuracy'])\n",
    "plt.title('Training Accuracy vs Validation Accuracy')\n",
    "plt.ylabel('Accuracy')\n",
    "plt.xlabel('Epoch')\n",
    "plt.legend(['Train', 'Validation'], loc='upper left')\n",
    "plt.show()\n",
    "\n",
    "# summarize history for loss\n",
    "plt.plot(history.history['loss'])\n",
    "plt.plot(history.history['val_loss'])\n",
    "plt.title('Training Loss vs Validation Loss')\n",
    "plt.ylabel('Loss')\n",
    "plt.xlabel('Epoch')\n",
    "plt.legend(['Train', 'Validation'], loc='upper left')\n",
    "plt.show()"
   ]
  },
  {
   "cell_type": "code",
   "execution_count": 44,
   "metadata": {},
   "outputs": [],
   "source": [
    "\"\"\"\n",
    "This one\n",
    "is to create a dataframe\n",
    "for the testing set.\n",
    "The testing set is different\n",
    "from the training set.\n",
    "It just means that we want\n",
    "to know how much if we are going\n",
    "to feed the whole new set\n",
    "of images in the testing set\n",
    "in the CNN to evaluate.\n",
    "\"\"\"\n",
    "test_filenames = os.listdir(r\"C:\\Users\\eppersonb\\Downloads\\CNN_Final_Project-master\\Testing_2_without noise\")\n",
    "\n",
    "test_df = pd.DataFrame({\n",
    "    'filename': test_filenames\n",
    "})\n",
    "test_df = test_df.sample(frac=1)\n",
    "\n",
    "nb_samples = test_df.shape[0]"
   ]
  },
  {
   "cell_type": "code",
   "execution_count": 45,
   "metadata": {},
   "outputs": [
    {
     "name": "stdout",
     "output_type": "stream",
     "text": [
      "Found 0 validated image filenames.\n"
     ]
    },
    {
     "name": "stderr",
     "output_type": "stream",
     "text": [
      "C:\\Users\\eppersonb\\Anaconda3\\envs\\tensorflow_env\\lib\\site-packages\\keras_preprocessing\\image\\dataframe_iterator.py:273: UserWarning: Found 1 invalid image filename(s) in x_col=\"filename\". These filename(s) will be ignored.\n",
      "  .format(n_invalid, x_col)\n"
     ]
    }
   ],
   "source": [
    "\"\"\"\n",
    "This is to create\n",
    "a test_generator\n",
    "\"\"\"\n",
    "test_gen = ImageDataGenerator(rescale=1./255)\n",
    "test_generator = test_gen.flow_from_dataframe(\n",
    "    test_df, \n",
    "    r\"C:\\Users\\eppersonb\\Downloads\\CNN_Final_Project-master\\Testing_2_without noise\", \n",
    "    x_col='filename',\n",
    "    y_col=None,\n",
    "    class_mode=None,\n",
    "    target_size=IMAGE_SIZE,\n",
    "    batch_size=batch_size,\n",
    "    shuffle=False\n",
    ")"
   ]
  },
  {
   "cell_type": "code",
   "execution_count": 46,
   "metadata": {},
   "outputs": [
    {
     "ename": "ValueError",
     "evalue": "Asked to retrieve element 0, but the Sequence has length 0",
     "output_type": "error",
     "traceback": [
      "\u001b[1;31m---------------------------------------------------------------------------\u001b[0m",
      "\u001b[1;31mValueError\u001b[0m                                Traceback (most recent call last)",
      "\u001b[1;32m<ipython-input-46-98b63447f05a>\u001b[0m in \u001b[0;36m<module>\u001b[1;34m\u001b[0m\n\u001b[0;32m      1\u001b[0m \u001b[1;31m#This is to predict the model\u001b[0m\u001b[1;33m\u001b[0m\u001b[1;33m\u001b[0m\u001b[1;33m\u001b[0m\u001b[0m\n\u001b[1;32m----> 2\u001b[1;33m \u001b[0mpredict\u001b[0m \u001b[1;33m=\u001b[0m \u001b[0mmodel\u001b[0m\u001b[1;33m.\u001b[0m\u001b[0mpredict_generator\u001b[0m\u001b[1;33m(\u001b[0m\u001b[0mtest_generator\u001b[0m\u001b[1;33m,\u001b[0m \u001b[0msteps\u001b[0m\u001b[1;33m=\u001b[0m\u001b[0mnp\u001b[0m\u001b[1;33m.\u001b[0m\u001b[0mceil\u001b[0m\u001b[1;33m(\u001b[0m\u001b[0mnb_samples\u001b[0m\u001b[1;33m/\u001b[0m\u001b[0mbatch_size\u001b[0m\u001b[1;33m)\u001b[0m\u001b[1;33m)\u001b[0m\u001b[1;33m\u001b[0m\u001b[1;33m\u001b[0m\u001b[0m\n\u001b[0m",
      "\u001b[1;32m~\\Anaconda3\\envs\\tensorflow_env\\lib\\site-packages\\tensorflow_core\\python\\util\\deprecation.py\u001b[0m in \u001b[0;36mnew_func\u001b[1;34m(*args, **kwargs)\u001b[0m\n\u001b[0;32m    322\u001b[0m               \u001b[1;34m'in a future version'\u001b[0m \u001b[1;32mif\u001b[0m \u001b[0mdate\u001b[0m \u001b[1;32mis\u001b[0m \u001b[1;32mNone\u001b[0m \u001b[1;32melse\u001b[0m \u001b[1;33m(\u001b[0m\u001b[1;34m'after %s'\u001b[0m \u001b[1;33m%\u001b[0m \u001b[0mdate\u001b[0m\u001b[1;33m)\u001b[0m\u001b[1;33m,\u001b[0m\u001b[1;33m\u001b[0m\u001b[1;33m\u001b[0m\u001b[0m\n\u001b[0;32m    323\u001b[0m               instructions)\n\u001b[1;32m--> 324\u001b[1;33m       \u001b[1;32mreturn\u001b[0m \u001b[0mfunc\u001b[0m\u001b[1;33m(\u001b[0m\u001b[1;33m*\u001b[0m\u001b[0margs\u001b[0m\u001b[1;33m,\u001b[0m \u001b[1;33m**\u001b[0m\u001b[0mkwargs\u001b[0m\u001b[1;33m)\u001b[0m\u001b[1;33m\u001b[0m\u001b[1;33m\u001b[0m\u001b[0m\n\u001b[0m\u001b[0;32m    325\u001b[0m     return tf_decorator.make_decorator(\n\u001b[0;32m    326\u001b[0m         \u001b[0mfunc\u001b[0m\u001b[1;33m,\u001b[0m \u001b[0mnew_func\u001b[0m\u001b[1;33m,\u001b[0m \u001b[1;34m'deprecated'\u001b[0m\u001b[1;33m,\u001b[0m\u001b[1;33m\u001b[0m\u001b[1;33m\u001b[0m\u001b[0m\n",
      "\u001b[1;32m~\\Anaconda3\\envs\\tensorflow_env\\lib\\site-packages\\tensorflow_core\\python\\keras\\engine\\training.py\u001b[0m in \u001b[0;36mpredict_generator\u001b[1;34m(self, generator, steps, callbacks, max_queue_size, workers, use_multiprocessing, verbose)\u001b[0m\n\u001b[0;32m   1358\u001b[0m         \u001b[0muse_multiprocessing\u001b[0m\u001b[1;33m=\u001b[0m\u001b[0muse_multiprocessing\u001b[0m\u001b[1;33m,\u001b[0m\u001b[1;33m\u001b[0m\u001b[1;33m\u001b[0m\u001b[0m\n\u001b[0;32m   1359\u001b[0m         \u001b[0mverbose\u001b[0m\u001b[1;33m=\u001b[0m\u001b[0mverbose\u001b[0m\u001b[1;33m,\u001b[0m\u001b[1;33m\u001b[0m\u001b[1;33m\u001b[0m\u001b[0m\n\u001b[1;32m-> 1360\u001b[1;33m         callbacks=callbacks)\n\u001b[0m\u001b[0;32m   1361\u001b[0m \u001b[1;33m\u001b[0m\u001b[0m\n\u001b[0;32m   1362\u001b[0m   \u001b[1;32mdef\u001b[0m \u001b[0m_check_call_args\u001b[0m\u001b[1;33m(\u001b[0m\u001b[0mself\u001b[0m\u001b[1;33m,\u001b[0m \u001b[0mmethod_name\u001b[0m\u001b[1;33m)\u001b[0m\u001b[1;33m:\u001b[0m\u001b[1;33m\u001b[0m\u001b[1;33m\u001b[0m\u001b[0m\n",
      "\u001b[1;32m~\\Anaconda3\\envs\\tensorflow_env\\lib\\site-packages\\tensorflow_core\\python\\keras\\engine\\training.py\u001b[0m in \u001b[0;36mpredict\u001b[1;34m(self, x, batch_size, verbose, steps, callbacks, max_queue_size, workers, use_multiprocessing)\u001b[0m\n\u001b[0;32m   1011\u001b[0m         \u001b[0mmax_queue_size\u001b[0m\u001b[1;33m=\u001b[0m\u001b[0mmax_queue_size\u001b[0m\u001b[1;33m,\u001b[0m\u001b[1;33m\u001b[0m\u001b[1;33m\u001b[0m\u001b[0m\n\u001b[0;32m   1012\u001b[0m         \u001b[0mworkers\u001b[0m\u001b[1;33m=\u001b[0m\u001b[0mworkers\u001b[0m\u001b[1;33m,\u001b[0m\u001b[1;33m\u001b[0m\u001b[1;33m\u001b[0m\u001b[0m\n\u001b[1;32m-> 1013\u001b[1;33m         use_multiprocessing=use_multiprocessing)\n\u001b[0m\u001b[0;32m   1014\u001b[0m \u001b[1;33m\u001b[0m\u001b[0m\n\u001b[0;32m   1015\u001b[0m   \u001b[1;32mdef\u001b[0m \u001b[0mreset_metrics\u001b[0m\u001b[1;33m(\u001b[0m\u001b[0mself\u001b[0m\u001b[1;33m)\u001b[0m\u001b[1;33m:\u001b[0m\u001b[1;33m\u001b[0m\u001b[1;33m\u001b[0m\u001b[0m\n",
      "\u001b[1;32m~\\Anaconda3\\envs\\tensorflow_env\\lib\\site-packages\\tensorflow_core\\python\\keras\\engine\\training_v2.py\u001b[0m in \u001b[0;36mpredict\u001b[1;34m(self, model, x, batch_size, verbose, steps, callbacks, max_queue_size, workers, use_multiprocessing, **kwargs)\u001b[0m\n\u001b[0;32m    496\u001b[0m         \u001b[0mmodel\u001b[0m\u001b[1;33m,\u001b[0m \u001b[0mModeKeys\u001b[0m\u001b[1;33m.\u001b[0m\u001b[0mPREDICT\u001b[0m\u001b[1;33m,\u001b[0m \u001b[0mx\u001b[0m\u001b[1;33m=\u001b[0m\u001b[0mx\u001b[0m\u001b[1;33m,\u001b[0m \u001b[0mbatch_size\u001b[0m\u001b[1;33m=\u001b[0m\u001b[0mbatch_size\u001b[0m\u001b[1;33m,\u001b[0m \u001b[0mverbose\u001b[0m\u001b[1;33m=\u001b[0m\u001b[0mverbose\u001b[0m\u001b[1;33m,\u001b[0m\u001b[1;33m\u001b[0m\u001b[1;33m\u001b[0m\u001b[0m\n\u001b[0;32m    497\u001b[0m         \u001b[0msteps\u001b[0m\u001b[1;33m=\u001b[0m\u001b[0msteps\u001b[0m\u001b[1;33m,\u001b[0m \u001b[0mcallbacks\u001b[0m\u001b[1;33m=\u001b[0m\u001b[0mcallbacks\u001b[0m\u001b[1;33m,\u001b[0m \u001b[0mmax_queue_size\u001b[0m\u001b[1;33m=\u001b[0m\u001b[0mmax_queue_size\u001b[0m\u001b[1;33m,\u001b[0m\u001b[1;33m\u001b[0m\u001b[1;33m\u001b[0m\u001b[0m\n\u001b[1;32m--> 498\u001b[1;33m         workers=workers, use_multiprocessing=use_multiprocessing, **kwargs)\n\u001b[0m\u001b[0;32m    499\u001b[0m \u001b[1;33m\u001b[0m\u001b[0m\n\u001b[0;32m    500\u001b[0m \u001b[1;33m\u001b[0m\u001b[0m\n",
      "\u001b[1;32m~\\Anaconda3\\envs\\tensorflow_env\\lib\\site-packages\\tensorflow_core\\python\\keras\\engine\\training_v2.py\u001b[0m in \u001b[0;36m_model_iteration\u001b[1;34m(self, model, mode, x, y, batch_size, verbose, sample_weight, steps, callbacks, max_queue_size, workers, use_multiprocessing, **kwargs)\u001b[0m\n\u001b[0;32m    424\u001b[0m           \u001b[0mmax_queue_size\u001b[0m\u001b[1;33m=\u001b[0m\u001b[0mmax_queue_size\u001b[0m\u001b[1;33m,\u001b[0m\u001b[1;33m\u001b[0m\u001b[1;33m\u001b[0m\u001b[0m\n\u001b[0;32m    425\u001b[0m           \u001b[0mworkers\u001b[0m\u001b[1;33m=\u001b[0m\u001b[0mworkers\u001b[0m\u001b[1;33m,\u001b[0m\u001b[1;33m\u001b[0m\u001b[1;33m\u001b[0m\u001b[0m\n\u001b[1;32m--> 426\u001b[1;33m           use_multiprocessing=use_multiprocessing)\n\u001b[0m\u001b[0;32m    427\u001b[0m       \u001b[0mtotal_samples\u001b[0m \u001b[1;33m=\u001b[0m \u001b[0m_get_total_number_of_samples\u001b[0m\u001b[1;33m(\u001b[0m\u001b[0madapter\u001b[0m\u001b[1;33m)\u001b[0m\u001b[1;33m\u001b[0m\u001b[1;33m\u001b[0m\u001b[0m\n\u001b[0;32m    428\u001b[0m       \u001b[0muse_sample\u001b[0m \u001b[1;33m=\u001b[0m \u001b[0mtotal_samples\u001b[0m \u001b[1;32mis\u001b[0m \u001b[1;32mnot\u001b[0m \u001b[1;32mNone\u001b[0m\u001b[1;33m\u001b[0m\u001b[1;33m\u001b[0m\u001b[0m\n",
      "\u001b[1;32m~\\Anaconda3\\envs\\tensorflow_env\\lib\\site-packages\\tensorflow_core\\python\\keras\\engine\\training_v2.py\u001b[0m in \u001b[0;36m_process_inputs\u001b[1;34m(model, mode, x, y, batch_size, epochs, sample_weights, class_weights, shuffle, steps, distribution_strategy, max_queue_size, workers, use_multiprocessing)\u001b[0m\n\u001b[0;32m    704\u001b[0m       \u001b[0mmax_queue_size\u001b[0m\u001b[1;33m=\u001b[0m\u001b[0mmax_queue_size\u001b[0m\u001b[1;33m,\u001b[0m\u001b[1;33m\u001b[0m\u001b[1;33m\u001b[0m\u001b[0m\n\u001b[0;32m    705\u001b[0m       \u001b[0mworkers\u001b[0m\u001b[1;33m=\u001b[0m\u001b[0mworkers\u001b[0m\u001b[1;33m,\u001b[0m\u001b[1;33m\u001b[0m\u001b[1;33m\u001b[0m\u001b[0m\n\u001b[1;32m--> 706\u001b[1;33m       use_multiprocessing=use_multiprocessing)\n\u001b[0m\u001b[0;32m    707\u001b[0m \u001b[1;33m\u001b[0m\u001b[0m\n\u001b[0;32m    708\u001b[0m   \u001b[1;32mreturn\u001b[0m \u001b[0madapter\u001b[0m\u001b[1;33m\u001b[0m\u001b[1;33m\u001b[0m\u001b[0m\n",
      "\u001b[1;32m~\\Anaconda3\\envs\\tensorflow_env\\lib\\site-packages\\tensorflow_core\\python\\keras\\engine\\data_adapter.py\u001b[0m in \u001b[0;36m__init__\u001b[1;34m(self, x, y, sample_weights, standardize_function, shuffle, workers, use_multiprocessing, max_queue_size, **kwargs)\u001b[0m\n\u001b[0;32m    950\u001b[0m         \u001b[0muse_multiprocessing\u001b[0m\u001b[1;33m=\u001b[0m\u001b[0muse_multiprocessing\u001b[0m\u001b[1;33m,\u001b[0m\u001b[1;33m\u001b[0m\u001b[1;33m\u001b[0m\u001b[0m\n\u001b[0;32m    951\u001b[0m         \u001b[0mmax_queue_size\u001b[0m\u001b[1;33m=\u001b[0m\u001b[0mmax_queue_size\u001b[0m\u001b[1;33m,\u001b[0m\u001b[1;33m\u001b[0m\u001b[1;33m\u001b[0m\u001b[0m\n\u001b[1;32m--> 952\u001b[1;33m         **kwargs)\n\u001b[0m\u001b[0;32m    953\u001b[0m \u001b[1;33m\u001b[0m\u001b[0m\n\u001b[0;32m    954\u001b[0m   \u001b[1;33m@\u001b[0m\u001b[0mstaticmethod\u001b[0m\u001b[1;33m\u001b[0m\u001b[1;33m\u001b[0m\u001b[0m\n",
      "\u001b[1;32m~\\Anaconda3\\envs\\tensorflow_env\\lib\\site-packages\\tensorflow_core\\python\\keras\\engine\\data_adapter.py\u001b[0m in \u001b[0;36m__init__\u001b[1;34m(self, x, y, sample_weights, standardize_function, workers, use_multiprocessing, max_queue_size, **kwargs)\u001b[0m\n\u001b[0;32m    745\u001b[0m     \u001b[1;31m# Since we have to know the dtype of the python generator when we build the\u001b[0m\u001b[1;33m\u001b[0m\u001b[1;33m\u001b[0m\u001b[1;33m\u001b[0m\u001b[0m\n\u001b[0;32m    746\u001b[0m     \u001b[1;31m# dataset, we have to look at a batch to infer the structure.\u001b[0m\u001b[1;33m\u001b[0m\u001b[1;33m\u001b[0m\u001b[1;33m\u001b[0m\u001b[0m\n\u001b[1;32m--> 747\u001b[1;33m     \u001b[0mpeek\u001b[0m\u001b[1;33m,\u001b[0m \u001b[0mx\u001b[0m \u001b[1;33m=\u001b[0m \u001b[0mself\u001b[0m\u001b[1;33m.\u001b[0m\u001b[0m_peek_and_restore\u001b[0m\u001b[1;33m(\u001b[0m\u001b[0mx\u001b[0m\u001b[1;33m)\u001b[0m\u001b[1;33m\u001b[0m\u001b[1;33m\u001b[0m\u001b[0m\n\u001b[0m\u001b[0;32m    748\u001b[0m     \u001b[0massert_not_namedtuple\u001b[0m\u001b[1;33m(\u001b[0m\u001b[0mpeek\u001b[0m\u001b[1;33m)\u001b[0m\u001b[1;33m\u001b[0m\u001b[1;33m\u001b[0m\u001b[0m\n\u001b[0;32m    749\u001b[0m \u001b[1;33m\u001b[0m\u001b[0m\n",
      "\u001b[1;32m~\\Anaconda3\\envs\\tensorflow_env\\lib\\site-packages\\tensorflow_core\\python\\keras\\engine\\data_adapter.py\u001b[0m in \u001b[0;36m_peek_and_restore\u001b[1;34m(x)\u001b[0m\n\u001b[0;32m    954\u001b[0m   \u001b[1;33m@\u001b[0m\u001b[0mstaticmethod\u001b[0m\u001b[1;33m\u001b[0m\u001b[1;33m\u001b[0m\u001b[0m\n\u001b[0;32m    955\u001b[0m   \u001b[1;32mdef\u001b[0m \u001b[0m_peek_and_restore\u001b[0m\u001b[1;33m(\u001b[0m\u001b[0mx\u001b[0m\u001b[1;33m)\u001b[0m\u001b[1;33m:\u001b[0m\u001b[1;33m\u001b[0m\u001b[1;33m\u001b[0m\u001b[0m\n\u001b[1;32m--> 956\u001b[1;33m     \u001b[1;32mreturn\u001b[0m \u001b[0mx\u001b[0m\u001b[1;33m[\u001b[0m\u001b[1;36m0\u001b[0m\u001b[1;33m]\u001b[0m\u001b[1;33m,\u001b[0m \u001b[0mx\u001b[0m\u001b[1;33m\u001b[0m\u001b[1;33m\u001b[0m\u001b[0m\n\u001b[0m\u001b[0;32m    957\u001b[0m \u001b[1;33m\u001b[0m\u001b[0m\n\u001b[0;32m    958\u001b[0m   \u001b[1;32mdef\u001b[0m \u001b[0m_make_callable\u001b[0m\u001b[1;33m(\u001b[0m\u001b[0mself\u001b[0m\u001b[1;33m,\u001b[0m \u001b[0mx\u001b[0m\u001b[1;33m,\u001b[0m \u001b[0mworkers\u001b[0m\u001b[1;33m,\u001b[0m \u001b[0muse_multiprocessing\u001b[0m\u001b[1;33m,\u001b[0m \u001b[0mmax_queue_size\u001b[0m\u001b[1;33m)\u001b[0m\u001b[1;33m:\u001b[0m\u001b[1;33m\u001b[0m\u001b[1;33m\u001b[0m\u001b[0m\n",
      "\u001b[1;32m~\\Anaconda3\\envs\\tensorflow_env\\lib\\site-packages\\keras_preprocessing\\image\\iterator.py\u001b[0m in \u001b[0;36m__getitem__\u001b[1;34m(self, idx)\u001b[0m\n\u001b[0;32m     55\u001b[0m                              \u001b[1;34m'but the Sequence '\u001b[0m\u001b[1;33m\u001b[0m\u001b[1;33m\u001b[0m\u001b[0m\n\u001b[0;32m     56\u001b[0m                              'has length {length}'.format(idx=idx,\n\u001b[1;32m---> 57\u001b[1;33m                                                           length=len(self)))\n\u001b[0m\u001b[0;32m     58\u001b[0m         \u001b[1;32mif\u001b[0m \u001b[0mself\u001b[0m\u001b[1;33m.\u001b[0m\u001b[0mseed\u001b[0m \u001b[1;32mis\u001b[0m \u001b[1;32mnot\u001b[0m \u001b[1;32mNone\u001b[0m\u001b[1;33m:\u001b[0m\u001b[1;33m\u001b[0m\u001b[1;33m\u001b[0m\u001b[0m\n\u001b[0;32m     59\u001b[0m             \u001b[0mnp\u001b[0m\u001b[1;33m.\u001b[0m\u001b[0mrandom\u001b[0m\u001b[1;33m.\u001b[0m\u001b[0mseed\u001b[0m\u001b[1;33m(\u001b[0m\u001b[0mself\u001b[0m\u001b[1;33m.\u001b[0m\u001b[0mseed\u001b[0m \u001b[1;33m+\u001b[0m \u001b[0mself\u001b[0m\u001b[1;33m.\u001b[0m\u001b[0mtotal_batches_seen\u001b[0m\u001b[1;33m)\u001b[0m\u001b[1;33m\u001b[0m\u001b[1;33m\u001b[0m\u001b[0m\n",
      "\u001b[1;31mValueError\u001b[0m: Asked to retrieve element 0, but the Sequence has length 0"
     ]
    }
   ],
   "source": [
    "#This is to predict the model\n",
    "predict = model.predict_generator(test_generator, steps=np.ceil(nb_samples/batch_size))"
   ]
  },
  {
   "cell_type": "code",
   "execution_count": null,
   "metadata": {},
   "outputs": [],
   "source": [
    "test_df['category'] = np.argmax(predict, axis=-1)"
   ]
  },
  {
   "cell_type": "code",
   "execution_count": null,
   "metadata": {},
   "outputs": [],
   "source": [
    "#Get the label mapped with the titles of the images (in the testing set).\n",
    "label_map = dict((v,k) for k,v in train_generator.class_indices.items())\n",
    "test_df['category'] = test_df['category'].replace(label_map)\n",
    "test_df.to_csv(r\"C:\\Users\\eppersonb\\Desktop\\New_2.csv\""
   ]
  },
  {
   "cell_type": "code",
   "execution_count": null,
   "metadata": {},
   "outputs": [],
   "source": [
    "\"\"\"\n",
    "Plot to see\n",
    "if the numbers of images\n",
    "in each category is correct\n",
    "enough (since we\n",
    "know the number of images in each\n",
    "category in the testing set).\n",
    "\"\"\"\n",
    "\n",
    "\n",
    "test_df['category'].value_counts().plot.bar()"
   ]
  },
  {
   "cell_type": "code",
   "execution_count": null,
   "metadata": {},
   "outputs": [],
   "source": [
    "\"\"\"\n",
    "This is to see the result of\n",
    "the random 20 images\n",
    "from the testing set\n",
    "with the category.\n",
    "\"\"\"\n",
    "sample_test = test_df.head(20)\n",
    "sample_test.head()\n",
    "plt.figure(figsize=(12, 24))\n",
    "i = 0\n",
    "for index, row in sample_test.iterrows():\n",
    "    i +=1\n",
    "    filename = row['filename']\n",
    "    category = row['category']\n",
    "    img = load_img(r\"C:\\Users\\eppersonb\\Desktop\\New_2.csv\"+filename, target_size=IMAGE_SIZE)\n",
    "    plt.subplot(4, 5, i)\n",
    "    plt.imshow(img)\n",
    "    plt.xlabel(filename + '(' + \"{}\".format(category) + ')' )\n",
    "plt.tight_layout()\n",
    "plt.show()"
   ]
  },
  {
   "cell_type": "code",
   "execution_count": null,
   "metadata": {},
   "outputs": [],
   "source": []
  },
  {
   "cell_type": "code",
   "execution_count": null,
   "metadata": {},
   "outputs": [],
   "source": []
  },
  {
   "cell_type": "code",
   "execution_count": null,
   "metadata": {},
   "outputs": [],
   "source": []
  }
 ],
 "metadata": {
  "kernelspec": {
   "display_name": "Python 3",
   "language": "python",
   "name": "python3"
  }
 },
 "nbformat": 4,
 "nbformat_minor": 4
}
